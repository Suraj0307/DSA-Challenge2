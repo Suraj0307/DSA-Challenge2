{
 "cells": [
  {
   "cell_type": "code",
   "execution_count": 86,
   "id": "8fb49e23",
   "metadata": {},
   "outputs": [],
   "source": [
    "import os\n",
    "folder_location=os.path.join(\"download\",\"training_set\")"
   ]
  },
  {
   "cell_type": "code",
   "execution_count": 87,
   "id": "9a263c5a",
   "metadata": {},
   "outputs": [],
   "source": [
    "mid_with_ratings={}\n",
    "# It will store movie id as key and all ratings of that movie in a list \n",
    "\n",
    "for filename in os.listdir(folder_location):\n",
    "    file_location=os.path.join(folder_location,filename)\n",
    "\n",
    "    f=open(file_location)\n",
    "    data=f.readlines()\n",
    "\n",
    "    movie_id=int(data[0].split(\":\")[0])\n",
    "    ratings=[]\n",
    "    \n",
    "#    Collecting all the ratings of the movie and pushing it into dictionary with the movie id\n",
    "    for info in range(1,len(data)):\n",
    "        d=data[info]\n",
    "        splitted_data=d.split(\",\")\n",
    "        ratings.append(int(splitted_data[1]))\n",
    "#     print(filename)   \n",
    "    mid_with_ratings[movie_id]=ratings\n",
    "    "
   ]
  },
  {
   "cell_type": "code",
   "execution_count": 88,
   "id": "e2f0eaa9",
   "metadata": {},
   "outputs": [],
   "source": [
    "# Collecting  movie_name as key and movie_name as value nd storing it in a dictionary\n",
    "mname_with_mid={}\n",
    "# movie_name_with_movie_id\n",
    "\n",
    "\n",
    "file_location=os.path.join(\"download\",\"movie_titles.txt\")\n",
    "\n",
    "f=open(file_location)\n",
    "data=f.readlines()\n",
    "\n",
    "\n",
    "for info in data:\n",
    "    splitted_data=info.split(\",\")\n",
    "    \n",
    "    movie_name=splitted_data[2][:-1] # Collecting movie name\n",
    "    movie_id=int(splitted_data[0])   # collecting movie_id\n",
    "    \n",
    "    # Inserting into dictionary\n",
    "    mname_with_mid[movie_id]=movie_name\n",
    "\n"
   ]
  },
  {
   "cell_type": "code",
   "execution_count": 89,
   "id": "a7e40e3a",
   "metadata": {},
   "outputs": [],
   "source": [
    "import numpy as np\n",
    "from sklearn.metrics.pairwise import cosine_similarity\n",
    "\n",
    "def recommend(mid):\n",
    "    similar_movies={}\n",
    "    ratings_count=len(mid_with_ratings[mid])\n",
    "    average_rating=sum(mid_with_ratings[mid])/len(mid_with_ratings[mid])\n",
    "\n",
    "    A=np.array([ratings_count,average_rating])\n",
    "    \n",
    "    for key in mid_with_ratings.keys():\n",
    "        r_count=len(mid_with_ratings[key])\n",
    "        a_rating=sum(mid_with_ratings[key])/len(mid_with_ratings[key])\n",
    "        \n",
    "        B=np.array([r_count,a_rating])\n",
    "        result=cosine_similarity(A.reshape(1,-1),B.reshape(1,-1))\n",
    "        \n",
    "        similar_movies[mname_with_mid[key]]=result[0][0]\n",
    "    \n",
    "    similar_movies = sorted(similar_movies.items(), key=lambda x: x[1], reverse=True)[1:11]\n",
    "    for movie in similar_movies:\n",
    "        print(movie[0])"
   ]
  },
  {
   "cell_type": "code",
   "execution_count": 90,
   "id": "6b1cccdf",
   "metadata": {},
   "outputs": [
    {
     "name": "stdout",
     "output_type": "stream",
     "text": [
      "Enter the movie name NetForce\n",
      "Below are the recommendations..please wait a second\n",
      "\n",
      "Alien Hunter\n",
      "Farmingville: POV\n",
      "Night Falls on Manhattan\n",
      "The Three Stooges: Health\n",
      "Semi-Tough\n",
      "Cadfael: The Virgin in the Ice\n",
      "Gypsy 83\n",
      "Nice Guys Sleep Alone\n",
      "When Boys Fly\n",
      "Survivor All-Stars\n"
     ]
    }
   ],
   "source": [
    "m_name=input(\"Enter the movie name \")\n",
    "\n",
    "# getting the movie id stored in mname_with_mid dictionary\n",
    "\n",
    "# taking O(n) time\n",
    "for key in mname_with_mid.keys():\n",
    "         if mname_with_mid[key] == m_name:\n",
    "            movie_id= key\n",
    "            break\n",
    "            \n",
    "print(\"Below are the recommendations..please wait a second\\n\")        \n",
    "recommend(movie_id)"
   ]
  },
  {
   "cell_type": "code",
   "execution_count": null,
   "id": "39b5caa4",
   "metadata": {},
   "outputs": [],
   "source": []
  }
 ],
 "metadata": {
  "kernelspec": {
   "display_name": "Python 3 (ipykernel)",
   "language": "python",
   "name": "python3"
  },
  "language_info": {
   "codemirror_mode": {
    "name": "ipython",
    "version": 3
   },
   "file_extension": ".py",
   "mimetype": "text/x-python",
   "name": "python",
   "nbconvert_exporter": "python",
   "pygments_lexer": "ipython3",
   "version": "3.9.7"
  }
 },
 "nbformat": 4,
 "nbformat_minor": 5
}
